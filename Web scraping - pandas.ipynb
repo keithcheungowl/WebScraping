{
 "cells": [
  {
   "cell_type": "markdown",
   "id": "94db1804-04de-4b50-81a0-384a9ccac0ac",
   "metadata": {},
   "source": [
    "# <center> Web scraping: pandas website <center><a class=\"tocSkip\">"
   ]
  },
  {
   "cell_type": "markdown",
   "id": "e9929da0-f297-471a-ba33-8d376b250e3b",
   "metadata": {},
   "source": [
    "# Introduction"
   ]
  },
  {
   "cell_type": "markdown",
   "id": "91e8c104-3435-4c69-9181-a950c3d023cf",
   "metadata": {},
   "source": [
    "What this file does:\n",
    "> Scrapes information about functions and what they do from the Pandas website, and exports it into a CSV file."
   ]
  },
  {
   "cell_type": "code",
   "execution_count": 1,
   "id": "0112ff50-f653-4822-956e-dafb86f1edd7",
   "metadata": {
    "execution": {
     "iopub.execute_input": "2023-05-23T11:14:43.031192Z",
     "iopub.status.busy": "2023-05-23T11:14:43.030192Z",
     "iopub.status.idle": "2023-05-23T11:14:43.903771Z",
     "shell.execute_reply": "2023-05-23T11:14:43.902817Z",
     "shell.execute_reply.started": "2023-05-23T11:14:43.031192Z"
    },
    "tags": []
   },
   "outputs": [],
   "source": [
    "import pandas as pd\n",
    "from selenium import webdriver\n",
    "from selenium.webdriver.chrome.service import Service as ChromeService\n",
    "from webdriver_manager.chrome import ChromeDriverManager\n",
    "from bs4 import BeautifulSoup"
   ]
  },
  {
   "cell_type": "markdown",
   "id": "abadd5b8-4a75-41a0-9cb8-cb1488cbfadb",
   "metadata": {},
   "source": [
    "# Extract HTML"
   ]
  },
  {
   "cell_type": "markdown",
   "id": "0f7f8768-d593-4d71-b086-24b603f33a6f",
   "metadata": {},
   "source": [
    "Read a single webpage:"
   ]
  },
  {
   "cell_type": "code",
   "execution_count": 2,
   "id": "f167ed20-5776-422c-97fb-f226a63fe430",
   "metadata": {
    "execution": {
     "iopub.execute_input": "2023-05-23T11:14:43.904771Z",
     "iopub.status.busy": "2023-05-23T11:14:43.904771Z",
     "iopub.status.idle": "2023-05-23T11:14:49.696510Z",
     "shell.execute_reply": "2023-05-23T11:14:49.694460Z",
     "shell.execute_reply.started": "2023-05-23T11:14:43.904771Z"
    },
    "tags": []
   },
   "outputs": [
    {
     "name": "stdout",
     "output_type": "stream",
     "text": [
      "Input/output — pandas 2.0.1 documentation\n"
     ]
    }
   ],
   "source": [
    "link = 'https://pandas.pydata.org/docs/reference/io.html'\n",
    "driver = webdriver.Chrome(service=ChromeService(ChromeDriverManager().install()))\n",
    "driver.get(link)\n",
    "print(driver.title)\n",
    "page_source = driver.page_source\n",
    "driver.quit()"
   ]
  },
  {
   "cell_type": "markdown",
   "id": "aba013d9-fc66-4b5c-be33-90729ae2fcb6",
   "metadata": {},
   "source": [
    "Read multiple webpages:"
   ]
  },
  {
   "cell_type": "code",
   "execution_count": 3,
   "id": "2f1b63cd-9603-4a1e-ae1c-de0438c1acbf",
   "metadata": {
    "execution": {
     "iopub.execute_input": "2023-05-23T11:14:49.702050Z",
     "iopub.status.busy": "2023-05-23T11:14:49.701047Z",
     "iopub.status.idle": "2023-05-23T11:16:14.512409Z",
     "shell.execute_reply": "2023-05-23T11:16:14.510308Z",
     "shell.execute_reply.started": "2023-05-23T11:14:49.702050Z"
    },
    "tags": []
   },
   "outputs": [
    {
     "name": "stdout",
     "output_type": "stream",
     "text": [
      "Input/output — pandas 2.0.1 documentation\n",
      "General functions — pandas 2.0.1 documentation\n",
      "Series — pandas 2.0.1 documentation\n",
      "DataFrame — pandas 2.0.1 documentation\n",
      "Index objects — pandas 2.0.1 documentation\n",
      "Date offsets — pandas 2.0.1 documentation\n",
      "Window — pandas 2.0.1 documentation\n",
      "GroupBy — pandas 2.0.1 documentation\n",
      "Resampling — pandas 2.0.1 documentation\n",
      "Style — pandas 2.0.1 documentation\n",
      "Plotting — pandas 2.0.1 documentation\n",
      "Options and settings — pandas 2.0.1 documentation\n",
      "Extensions — pandas 2.0.1 documentation\n",
      "Testing — pandas 2.0.1 documentation\n"
     ]
    }
   ],
   "source": [
    "links = ['https://pandas.pydata.org/docs/reference/io.html',\n",
    "         'https://pandas.pydata.org/docs/reference/general_functions.html',\n",
    "         'https://pandas.pydata.org/docs/reference/series.html',\n",
    "         'https://pandas.pydata.org/docs/reference/frame.html',\n",
    "         'https://pandas.pydata.org/docs/reference/indexing.html',\n",
    "         'https://pandas.pydata.org/docs/reference/offset_frequency.html',\n",
    "         'https://pandas.pydata.org/docs/reference/window.html',\n",
    "         'https://pandas.pydata.org/docs/reference/groupby.html',\n",
    "         'https://pandas.pydata.org/docs/reference/resampling.html',\n",
    "         'https://pandas.pydata.org/docs/reference/style.html',\n",
    "         'https://pandas.pydata.org/docs/reference/plotting.html',\n",
    "         'https://pandas.pydata.org/docs/reference/options.html',\n",
    "         'https://pandas.pydata.org/docs/reference/extensions.html',\n",
    "         'https://pandas.pydata.org/docs/reference/testing.html']\n",
    "page_sources = []\n",
    "for i in range(len(links)):\n",
    "    driver = webdriver.Chrome(service=ChromeService(ChromeDriverManager().install()))\n",
    "    driver.get(links[i])\n",
    "    print(driver.title)\n",
    "    page_sources.append(driver.page_source)\n",
    "    driver.quit()"
   ]
  },
  {
   "cell_type": "markdown",
   "id": "6b9c0657-bbec-40cf-bad5-4259fea4e21f",
   "metadata": {},
   "source": [
    "Number of webpages:"
   ]
  },
  {
   "cell_type": "code",
   "execution_count": 4,
   "id": "fc886b37-ff86-48cb-a133-f83d8779ced2",
   "metadata": {
    "execution": {
     "iopub.execute_input": "2023-05-23T11:16:14.515419Z",
     "iopub.status.busy": "2023-05-23T11:16:14.514360Z",
     "iopub.status.idle": "2023-05-23T11:16:14.542771Z",
     "shell.execute_reply": "2023-05-23T11:16:14.541756Z",
     "shell.execute_reply.started": "2023-05-23T11:16:14.515419Z"
    }
   },
   "outputs": [
    {
     "data": {
      "text/plain": [
       "14"
      ]
     },
     "execution_count": 4,
     "metadata": {},
     "output_type": "execute_result"
    }
   ],
   "source": [
    "len(page_sources)"
   ]
  },
  {
   "cell_type": "markdown",
   "id": "4f025611-eaf3-4fb9-a415-f4d845c5bb96",
   "metadata": {
    "tags": []
   },
   "source": [
    "# HTML parsing"
   ]
  },
  {
   "cell_type": "markdown",
   "id": "70f0486c-f809-46b5-a15f-a6ca4131367f",
   "metadata": {},
   "source": [
    "Here, we gather some insight into how the data is structured, before constructing our final table."
   ]
  },
  {
   "cell_type": "markdown",
   "id": "5c35c291-6886-4ac0-bbce-d53dcea2398d",
   "metadata": {},
   "source": [
    "## Show page source"
   ]
  },
  {
   "cell_type": "markdown",
   "id": "f63e5e2a-df08-41d7-9837-97bea8774d39",
   "metadata": {},
   "source": [
    "Commented out due to size:"
   ]
  },
  {
   "cell_type": "code",
   "execution_count": 15,
   "id": "bd07f92b-6d55-4c6a-867d-b2774229d12c",
   "metadata": {
    "execution": {
     "iopub.execute_input": "2023-05-23T11:17:26.603050Z",
     "iopub.status.busy": "2023-05-23T11:17:26.603050Z",
     "iopub.status.idle": "2023-05-23T11:17:26.662574Z",
     "shell.execute_reply": "2023-05-23T11:17:26.661620Z",
     "shell.execute_reply.started": "2023-05-23T11:17:26.603050Z"
    },
    "tags": []
   },
   "outputs": [],
   "source": [
    "soup = BeautifulSoup(page_source, 'html.parser')\n",
    "# print(soup.prettify())"
   ]
  },
  {
   "cell_type": "markdown",
   "id": "6b7eb852-2459-444c-8237-71969b3f8913",
   "metadata": {},
   "source": [
    "## Get headers"
   ]
  },
  {
   "cell_type": "markdown",
   "id": "b8a5af9b-3c1b-4018-a049-039464f162b7",
   "metadata": {},
   "source": [
    "Get h1 header:"
   ]
  },
  {
   "cell_type": "code",
   "execution_count": 6,
   "id": "022385e9-95e2-4894-b160-3e8e6b9425c9",
   "metadata": {
    "execution": {
     "iopub.execute_input": "2023-05-23T11:16:14.639541Z",
     "iopub.status.busy": "2023-05-23T11:16:14.639541Z",
     "iopub.status.idle": "2023-05-23T11:16:14.654532Z",
     "shell.execute_reply": "2023-05-23T11:16:14.653533Z",
     "shell.execute_reply.started": "2023-05-23T11:16:14.639541Z"
    },
    "tags": []
   },
   "outputs": [
    {
     "data": {
      "text/plain": [
       "'Input/output'"
      ]
     },
     "execution_count": 6,
     "metadata": {},
     "output_type": "execute_result"
    }
   ],
   "source": [
    "header_h1 = soup.find('h1').get_text()[:-1]\n",
    "header_h1"
   ]
  },
  {
   "cell_type": "markdown",
   "id": "387bb8a6-f7a1-4dec-8937-f37b8fa0693c",
   "metadata": {},
   "source": [
    "Get h2 headers:"
   ]
  },
  {
   "cell_type": "code",
   "execution_count": 7,
   "id": "f31ee569-5934-4af8-89f5-22160abcfb1c",
   "metadata": {
    "execution": {
     "iopub.execute_input": "2023-05-23T11:16:14.654532Z",
     "iopub.status.busy": "2023-05-23T11:16:14.654532Z",
     "iopub.status.idle": "2023-05-23T11:16:14.670540Z",
     "shell.execute_reply": "2023-05-23T11:16:14.669533Z",
     "shell.execute_reply.started": "2023-05-23T11:16:14.654532Z"
    },
    "tags": []
   },
   "outputs": [
    {
     "data": {
      "text/plain": [
       "['Pickling',\n",
       " 'Flat file',\n",
       " 'Clipboard',\n",
       " 'Excel',\n",
       " 'JSON',\n",
       " 'HTML',\n",
       " 'XML',\n",
       " 'Latex',\n",
       " 'HDFStore: PyTables (HDF5)',\n",
       " 'Feather',\n",
       " 'Parquet',\n",
       " 'ORC',\n",
       " 'SAS',\n",
       " 'SPSS',\n",
       " 'SQL',\n",
       " 'Google BigQuery',\n",
       " 'STATA']"
      ]
     },
     "execution_count": 7,
     "metadata": {},
     "output_type": "execute_result"
    }
   ],
   "source": [
    "headers_h2 = soup.find_all('h2')\n",
    "headers_h2 = [x.get_text()[:-1] for x in headers_h2]\n",
    "headers_h2"
   ]
  },
  {
   "cell_type": "markdown",
   "id": "9d4ff283-0170-4489-8861-25d1b3e3b5a8",
   "metadata": {},
   "source": [
    "## Reading in html tables"
   ]
  },
  {
   "cell_type": "code",
   "execution_count": 8,
   "id": "41d91c31-bace-450c-99c2-b0593f7394db",
   "metadata": {
    "execution": {
     "iopub.execute_input": "2023-05-23T11:16:14.671534Z",
     "iopub.status.busy": "2023-05-23T11:16:14.671534Z",
     "iopub.status.idle": "2023-05-23T11:16:14.932980Z",
     "shell.execute_reply": "2023-05-23T11:16:14.932980Z",
     "shell.execute_reply.started": "2023-05-23T11:16:14.671534Z"
    },
    "tags": []
   },
   "outputs": [
    {
     "data": {
      "text/plain": [
       "23"
      ]
     },
     "execution_count": 8,
     "metadata": {},
     "output_type": "execute_result"
    }
   ],
   "source": [
    "html_tables = pd.read_html(link)\n",
    "len(html_tables)"
   ]
  },
  {
   "cell_type": "code",
   "execution_count": 9,
   "id": "4082d701-b473-4500-846f-9d52f5e7a38c",
   "metadata": {
    "execution": {
     "iopub.execute_input": "2023-05-23T11:16:14.934939Z",
     "iopub.status.busy": "2023-05-23T11:16:14.933943Z",
     "iopub.status.idle": "2023-05-23T11:16:14.949945Z",
     "shell.execute_reply": "2023-05-23T11:16:14.948942Z",
     "shell.execute_reply.started": "2023-05-23T11:16:14.933943Z"
    },
    "tags": []
   },
   "outputs": [
    {
     "data": {
      "text/html": [
       "<div>\n",
       "<style scoped>\n",
       "    .dataframe tbody tr th:only-of-type {\n",
       "        vertical-align: middle;\n",
       "    }\n",
       "\n",
       "    .dataframe tbody tr th {\n",
       "        vertical-align: top;\n",
       "    }\n",
       "\n",
       "    .dataframe thead th {\n",
       "        text-align: right;\n",
       "    }\n",
       "</style>\n",
       "<table border=\"1\" class=\"dataframe\">\n",
       "  <thead>\n",
       "    <tr style=\"text-align: right;\">\n",
       "      <th></th>\n",
       "      <th>0</th>\n",
       "      <th>1</th>\n",
       "    </tr>\n",
       "  </thead>\n",
       "  <tbody>\n",
       "    <tr>\n",
       "      <th>0</th>\n",
       "      <td>read_stata(filepath_or_buffer, *[, ...])</td>\n",
       "      <td>Read Stata file into DataFrame.</td>\n",
       "    </tr>\n",
       "    <tr>\n",
       "      <th>1</th>\n",
       "      <td>DataFrame.to_stata(path, *[, convert_dates, ...])</td>\n",
       "      <td>Export DataFrame object to Stata dta format.</td>\n",
       "    </tr>\n",
       "  </tbody>\n",
       "</table>\n",
       "</div>"
      ],
      "text/plain": [
       "                                                   0  \\\n",
       "0           read_stata(filepath_or_buffer, *[, ...])   \n",
       "1  DataFrame.to_stata(path, *[, convert_dates, ...])   \n",
       "\n",
       "                                              1  \n",
       "0               Read Stata file into DataFrame.  \n",
       "1  Export DataFrame object to Stata dta format.  "
      ]
     },
     "execution_count": 9,
     "metadata": {},
     "output_type": "execute_result"
    }
   ],
   "source": [
    "html_tables[-2]"
   ]
  },
  {
   "cell_type": "markdown",
   "id": "20b0fa2a-7a93-4eb8-9981-7ee9c019d6b9",
   "metadata": {},
   "source": [
    "## Construct our DataFrame"
   ]
  },
  {
   "cell_type": "code",
   "execution_count": 10,
   "id": "994cdb06-bc58-4359-8a63-d06c1416c1eb",
   "metadata": {
    "execution": {
     "iopub.execute_input": "2023-05-23T11:16:14.950937Z",
     "iopub.status.busy": "2023-05-23T11:16:14.950937Z",
     "iopub.status.idle": "2023-05-23T11:16:21.009800Z",
     "shell.execute_reply": "2023-05-23T11:16:21.008792Z",
     "shell.execute_reply.started": "2023-05-23T11:16:14.950937Z"
    },
    "tags": []
   },
   "outputs": [
    {
     "data": {
      "text/html": [
       "<div>\n",
       "<style scoped>\n",
       "    .dataframe tbody tr th:only-of-type {\n",
       "        vertical-align: middle;\n",
       "    }\n",
       "\n",
       "    .dataframe tbody tr th {\n",
       "        vertical-align: top;\n",
       "    }\n",
       "\n",
       "    .dataframe thead th {\n",
       "        text-align: right;\n",
       "    }\n",
       "</style>\n",
       "<table border=\"1\" class=\"dataframe\">\n",
       "  <thead>\n",
       "    <tr style=\"text-align: right;\">\n",
       "      <th></th>\n",
       "      <th>0</th>\n",
       "      <th>1</th>\n",
       "      <th>Category</th>\n",
       "      <th>Data Type</th>\n",
       "      <th>Accessor</th>\n",
       "    </tr>\n",
       "  </thead>\n",
       "  <tbody>\n",
       "    <tr>\n",
       "      <th>0</th>\n",
       "      <td>read_pickle(filepath_or_buffer[, ...])</td>\n",
       "      <td>Load pickled pandas object (or any object) fro...</td>\n",
       "      <td>Input/output</td>\n",
       "      <td>NaN</td>\n",
       "      <td>NaN</td>\n",
       "    </tr>\n",
       "    <tr>\n",
       "      <th>1</th>\n",
       "      <td>DataFrame.to_pickle(path[, compression, ...])</td>\n",
       "      <td>Pickle (serialize) object to file.</td>\n",
       "      <td>Input/output</td>\n",
       "      <td>NaN</td>\n",
       "      <td>NaN</td>\n",
       "    </tr>\n",
       "    <tr>\n",
       "      <th>0</th>\n",
       "      <td>read_table(filepath_or_buffer, *[, sep, ...])</td>\n",
       "      <td>Read general delimited file into DataFrame.</td>\n",
       "      <td>Input/output</td>\n",
       "      <td>NaN</td>\n",
       "      <td>NaN</td>\n",
       "    </tr>\n",
       "    <tr>\n",
       "      <th>1</th>\n",
       "      <td>read_csv(filepath_or_buffer, *[, sep, ...])</td>\n",
       "      <td>Read a comma-separated values (csv) file into ...</td>\n",
       "      <td>Input/output</td>\n",
       "      <td>NaN</td>\n",
       "      <td>NaN</td>\n",
       "    </tr>\n",
       "    <tr>\n",
       "      <th>2</th>\n",
       "      <td>DataFrame.to_csv([path_or_buf, sep, na_rep, ...])</td>\n",
       "      <td>Write object to a comma-separated values (csv)...</td>\n",
       "      <td>Input/output</td>\n",
       "      <td>NaN</td>\n",
       "      <td>NaN</td>\n",
       "    </tr>\n",
       "    <tr>\n",
       "      <th>...</th>\n",
       "      <td>...</td>\n",
       "      <td>...</td>\n",
       "      <td>...</td>\n",
       "      <td>...</td>\n",
       "      <td>...</td>\n",
       "    </tr>\n",
       "    <tr>\n",
       "      <th>39</th>\n",
       "      <td>errors.UnsortedIndexError</td>\n",
       "      <td>Error raised when slicing a MultiIndex which h...</td>\n",
       "      <td>Testing</td>\n",
       "      <td>NaN</td>\n",
       "      <td>NaN</td>\n",
       "    </tr>\n",
       "    <tr>\n",
       "      <th>40</th>\n",
       "      <td>errors.UnsupportedFunctionCall</td>\n",
       "      <td>Exception raised when attempting to call a uns...</td>\n",
       "      <td>Testing</td>\n",
       "      <td>NaN</td>\n",
       "      <td>NaN</td>\n",
       "    </tr>\n",
       "    <tr>\n",
       "      <th>41</th>\n",
       "      <td>errors.ValueLabelTypeMismatch</td>\n",
       "      <td>Warning raised by to_stata on a category colum...</td>\n",
       "      <td>Testing</td>\n",
       "      <td>NaN</td>\n",
       "      <td>NaN</td>\n",
       "    </tr>\n",
       "    <tr>\n",
       "      <th>0</th>\n",
       "      <td>show_versions([as_json])</td>\n",
       "      <td>Provide useful information, important for bug ...</td>\n",
       "      <td>Testing</td>\n",
       "      <td>NaN</td>\n",
       "      <td>NaN</td>\n",
       "    </tr>\n",
       "    <tr>\n",
       "      <th>0</th>\n",
       "      <td>test([extra_args])</td>\n",
       "      <td>Run the pandas test suite using pytest.</td>\n",
       "      <td>Testing</td>\n",
       "      <td>NaN</td>\n",
       "      <td>NaN</td>\n",
       "    </tr>\n",
       "  </tbody>\n",
       "</table>\n",
       "<p>1868 rows × 5 columns</p>\n",
       "</div>"
      ],
      "text/plain": [
       "                                                    0  \\\n",
       "0              read_pickle(filepath_or_buffer[, ...])   \n",
       "1       DataFrame.to_pickle(path[, compression, ...])   \n",
       "0       read_table(filepath_or_buffer, *[, sep, ...])   \n",
       "1         read_csv(filepath_or_buffer, *[, sep, ...])   \n",
       "2   DataFrame.to_csv([path_or_buf, sep, na_rep, ...])   \n",
       "..                                                ...   \n",
       "39                          errors.UnsortedIndexError   \n",
       "40                     errors.UnsupportedFunctionCall   \n",
       "41                      errors.ValueLabelTypeMismatch   \n",
       "0                            show_versions([as_json])   \n",
       "0                                  test([extra_args])   \n",
       "\n",
       "                                                    1      Category Data Type  \\\n",
       "0   Load pickled pandas object (or any object) fro...  Input/output       NaN   \n",
       "1                  Pickle (serialize) object to file.  Input/output       NaN   \n",
       "0         Read general delimited file into DataFrame.  Input/output       NaN   \n",
       "1   Read a comma-separated values (csv) file into ...  Input/output       NaN   \n",
       "2   Write object to a comma-separated values (csv)...  Input/output       NaN   \n",
       "..                                                ...           ...       ...   \n",
       "39  Error raised when slicing a MultiIndex which h...       Testing       NaN   \n",
       "40  Exception raised when attempting to call a uns...       Testing       NaN   \n",
       "41  Warning raised by to_stata on a category colum...       Testing       NaN   \n",
       "0   Provide useful information, important for bug ...       Testing       NaN   \n",
       "0             Run the pandas test suite using pytest.       Testing       NaN   \n",
       "\n",
       "   Accessor  \n",
       "0       NaN  \n",
       "1       NaN  \n",
       "0       NaN  \n",
       "1       NaN  \n",
       "2       NaN  \n",
       "..      ...  \n",
       "39      NaN  \n",
       "40      NaN  \n",
       "41      NaN  \n",
       "0       NaN  \n",
       "0       NaN  \n",
       "\n",
       "[1868 rows x 5 columns]"
      ]
     },
     "execution_count": 10,
     "metadata": {},
     "output_type": "execute_result"
    }
   ],
   "source": [
    "df = pd.DataFrame()\n",
    "for i in range(len(page_sources)):\n",
    "    soup = BeautifulSoup(page_sources[i], 'html.parser')\n",
    "    header_h1 = soup.find('h1').get_text()[:-1]\n",
    "    html_tables = pd.read_html(links[i])\n",
    "    df_one = pd.DataFrame()\n",
    "    for j in range(len(html_tables)):\n",
    "        df_one = pd.concat([df_one, html_tables[j]])\n",
    "    df_one['Category'] = header_h1\n",
    "    df = pd.concat([df, df_one])\n",
    "df"
   ]
  },
  {
   "cell_type": "markdown",
   "id": "2c09ce48-3cdf-4a8c-9e6a-323a5710b673",
   "metadata": {},
   "source": [
    "## Data wrangling"
   ]
  },
  {
   "cell_type": "markdown",
   "id": "64c8435e-1892-42d0-a327-f57beb74101c",
   "metadata": {},
   "source": [
    "Rename columns:"
   ]
  },
  {
   "cell_type": "code",
   "execution_count": 11,
   "id": "791300ff-474a-43f1-8054-6a6eb0ee63c4",
   "metadata": {
    "execution": {
     "iopub.execute_input": "2023-05-23T11:16:21.010729Z",
     "iopub.status.busy": "2023-05-23T11:16:21.010729Z",
     "iopub.status.idle": "2023-05-23T11:16:21.040769Z",
     "shell.execute_reply": "2023-05-23T11:16:21.039817Z",
     "shell.execute_reply.started": "2023-05-23T11:16:21.010729Z"
    },
    "tags": []
   },
   "outputs": [
    {
     "data": {
      "text/html": [
       "<div>\n",
       "<style scoped>\n",
       "    .dataframe tbody tr th:only-of-type {\n",
       "        vertical-align: middle;\n",
       "    }\n",
       "\n",
       "    .dataframe tbody tr th {\n",
       "        vertical-align: top;\n",
       "    }\n",
       "\n",
       "    .dataframe thead th {\n",
       "        text-align: right;\n",
       "    }\n",
       "</style>\n",
       "<table border=\"1\" class=\"dataframe\">\n",
       "  <thead>\n",
       "    <tr style=\"text-align: right;\">\n",
       "      <th></th>\n",
       "      <th>Function</th>\n",
       "      <th>Description</th>\n",
       "      <th>Category</th>\n",
       "      <th>Data Type</th>\n",
       "      <th>Accessor</th>\n",
       "    </tr>\n",
       "  </thead>\n",
       "  <tbody>\n",
       "    <tr>\n",
       "      <th>0</th>\n",
       "      <td>read_pickle(filepath_or_buffer[, ...])</td>\n",
       "      <td>Load pickled pandas object (or any object) fro...</td>\n",
       "      <td>Input/output</td>\n",
       "      <td>NaN</td>\n",
       "      <td>NaN</td>\n",
       "    </tr>\n",
       "    <tr>\n",
       "      <th>1</th>\n",
       "      <td>DataFrame.to_pickle(path[, compression, ...])</td>\n",
       "      <td>Pickle (serialize) object to file.</td>\n",
       "      <td>Input/output</td>\n",
       "      <td>NaN</td>\n",
       "      <td>NaN</td>\n",
       "    </tr>\n",
       "    <tr>\n",
       "      <th>0</th>\n",
       "      <td>read_table(filepath_or_buffer, *[, sep, ...])</td>\n",
       "      <td>Read general delimited file into DataFrame.</td>\n",
       "      <td>Input/output</td>\n",
       "      <td>NaN</td>\n",
       "      <td>NaN</td>\n",
       "    </tr>\n",
       "    <tr>\n",
       "      <th>1</th>\n",
       "      <td>read_csv(filepath_or_buffer, *[, sep, ...])</td>\n",
       "      <td>Read a comma-separated values (csv) file into ...</td>\n",
       "      <td>Input/output</td>\n",
       "      <td>NaN</td>\n",
       "      <td>NaN</td>\n",
       "    </tr>\n",
       "    <tr>\n",
       "      <th>2</th>\n",
       "      <td>DataFrame.to_csv([path_or_buf, sep, na_rep, ...])</td>\n",
       "      <td>Write object to a comma-separated values (csv)...</td>\n",
       "      <td>Input/output</td>\n",
       "      <td>NaN</td>\n",
       "      <td>NaN</td>\n",
       "    </tr>\n",
       "    <tr>\n",
       "      <th>...</th>\n",
       "      <td>...</td>\n",
       "      <td>...</td>\n",
       "      <td>...</td>\n",
       "      <td>...</td>\n",
       "      <td>...</td>\n",
       "    </tr>\n",
       "    <tr>\n",
       "      <th>39</th>\n",
       "      <td>errors.UnsortedIndexError</td>\n",
       "      <td>Error raised when slicing a MultiIndex which h...</td>\n",
       "      <td>Testing</td>\n",
       "      <td>NaN</td>\n",
       "      <td>NaN</td>\n",
       "    </tr>\n",
       "    <tr>\n",
       "      <th>40</th>\n",
       "      <td>errors.UnsupportedFunctionCall</td>\n",
       "      <td>Exception raised when attempting to call a uns...</td>\n",
       "      <td>Testing</td>\n",
       "      <td>NaN</td>\n",
       "      <td>NaN</td>\n",
       "    </tr>\n",
       "    <tr>\n",
       "      <th>41</th>\n",
       "      <td>errors.ValueLabelTypeMismatch</td>\n",
       "      <td>Warning raised by to_stata on a category colum...</td>\n",
       "      <td>Testing</td>\n",
       "      <td>NaN</td>\n",
       "      <td>NaN</td>\n",
       "    </tr>\n",
       "    <tr>\n",
       "      <th>0</th>\n",
       "      <td>show_versions([as_json])</td>\n",
       "      <td>Provide useful information, important for bug ...</td>\n",
       "      <td>Testing</td>\n",
       "      <td>NaN</td>\n",
       "      <td>NaN</td>\n",
       "    </tr>\n",
       "    <tr>\n",
       "      <th>0</th>\n",
       "      <td>test([extra_args])</td>\n",
       "      <td>Run the pandas test suite using pytest.</td>\n",
       "      <td>Testing</td>\n",
       "      <td>NaN</td>\n",
       "      <td>NaN</td>\n",
       "    </tr>\n",
       "  </tbody>\n",
       "</table>\n",
       "<p>1868 rows × 5 columns</p>\n",
       "</div>"
      ],
      "text/plain": [
       "                                             Function  \\\n",
       "0              read_pickle(filepath_or_buffer[, ...])   \n",
       "1       DataFrame.to_pickle(path[, compression, ...])   \n",
       "0       read_table(filepath_or_buffer, *[, sep, ...])   \n",
       "1         read_csv(filepath_or_buffer, *[, sep, ...])   \n",
       "2   DataFrame.to_csv([path_or_buf, sep, na_rep, ...])   \n",
       "..                                                ...   \n",
       "39                          errors.UnsortedIndexError   \n",
       "40                     errors.UnsupportedFunctionCall   \n",
       "41                      errors.ValueLabelTypeMismatch   \n",
       "0                            show_versions([as_json])   \n",
       "0                                  test([extra_args])   \n",
       "\n",
       "                                          Description      Category Data Type  \\\n",
       "0   Load pickled pandas object (or any object) fro...  Input/output       NaN   \n",
       "1                  Pickle (serialize) object to file.  Input/output       NaN   \n",
       "0         Read general delimited file into DataFrame.  Input/output       NaN   \n",
       "1   Read a comma-separated values (csv) file into ...  Input/output       NaN   \n",
       "2   Write object to a comma-separated values (csv)...  Input/output       NaN   \n",
       "..                                                ...           ...       ...   \n",
       "39  Error raised when slicing a MultiIndex which h...       Testing       NaN   \n",
       "40  Exception raised when attempting to call a uns...       Testing       NaN   \n",
       "41  Warning raised by to_stata on a category colum...       Testing       NaN   \n",
       "0   Provide useful information, important for bug ...       Testing       NaN   \n",
       "0             Run the pandas test suite using pytest.       Testing       NaN   \n",
       "\n",
       "   Accessor  \n",
       "0       NaN  \n",
       "1       NaN  \n",
       "0       NaN  \n",
       "1       NaN  \n",
       "2       NaN  \n",
       "..      ...  \n",
       "39      NaN  \n",
       "40      NaN  \n",
       "41      NaN  \n",
       "0       NaN  \n",
       "0       NaN  \n",
       "\n",
       "[1868 rows x 5 columns]"
      ]
     },
     "execution_count": 11,
     "metadata": {},
     "output_type": "execute_result"
    }
   ],
   "source": [
    "columns_rename = {0: 'Function', 1: 'Description'}\n",
    "df.rename(columns=columns_rename, inplace=True)\n",
    "df"
   ]
  },
  {
   "cell_type": "markdown",
   "id": "4795e27b-6d8b-473c-a4a2-b3eefa3cdd02",
   "metadata": {
    "execution": {
     "iopub.execute_input": "2022-11-16T09:05:06.497345Z",
     "iopub.status.busy": "2022-11-16T09:05:06.497345Z",
     "iopub.status.idle": "2022-11-16T09:05:06.506315Z",
     "shell.execute_reply": "2022-11-16T09:05:06.505316Z",
     "shell.execute_reply.started": "2022-11-16T09:05:06.497345Z"
    },
    "tags": []
   },
   "source": [
    "Format the Function column to remove stuff inside brackets:"
   ]
  },
  {
   "cell_type": "code",
   "execution_count": 12,
   "id": "604dccbf-37ce-46db-a5c9-d9389520d09d",
   "metadata": {
    "execution": {
     "iopub.execute_input": "2023-05-23T11:16:21.043775Z",
     "iopub.status.busy": "2023-05-23T11:16:21.042777Z",
     "iopub.status.idle": "2023-05-23T11:16:21.430439Z",
     "shell.execute_reply": "2023-05-23T11:16:21.429441Z",
     "shell.execute_reply.started": "2023-05-23T11:16:21.043775Z"
    },
    "tags": []
   },
   "outputs": [
    {
     "name": "stderr",
     "output_type": "stream",
     "text": [
      "C:\\Users\\K\\AppData\\Local\\Temp/ipykernel_5776/37664937.py:1: FutureWarning: The default value of regex will change from True to False in a future version.\n",
      "  df['Function'] = df['Function'].str.replace(r'(?<=\\()[^()]*(?=\\))', '')\n"
     ]
    },
    {
     "data": {
      "text/plain": [
       "0                      read_pickle()\n",
       "1              DataFrame.to_pickle()\n",
       "0                       read_table()\n",
       "1                         read_csv()\n",
       "2                 DataFrame.to_csv()\n",
       "                   ...              \n",
       "39         errors.UnsortedIndexError\n",
       "40    errors.UnsupportedFunctionCall\n",
       "41     errors.ValueLabelTypeMismatch\n",
       "0                    show_versions()\n",
       "0                             test()\n",
       "Name: Function, Length: 1868, dtype: object"
      ]
     },
     "execution_count": 12,
     "metadata": {},
     "output_type": "execute_result"
    }
   ],
   "source": [
    "df['Function'] = df['Function'].str.replace(r'(?<=\\()[^()]*(?=\\))', '')\n",
    "df['Function']"
   ]
  },
  {
   "cell_type": "markdown",
   "id": "3e01e1b0-14d5-4e45-be66-634058cbcb9f",
   "metadata": {},
   "source": [
    "# Exporting"
   ]
  },
  {
   "cell_type": "code",
   "execution_count": 13,
   "id": "e0c3979b-7b84-423d-8205-dd1e19abf4af",
   "metadata": {
    "execution": {
     "iopub.execute_input": "2023-05-23T11:16:21.433442Z",
     "iopub.status.busy": "2023-05-23T11:16:21.432445Z",
     "iopub.status.idle": "2023-05-23T11:16:21.462486Z",
     "shell.execute_reply": "2023-05-23T11:16:21.461492Z",
     "shell.execute_reply.started": "2023-05-23T11:16:21.433442Z"
    },
    "tags": []
   },
   "outputs": [],
   "source": [
    "filename = 'pandas functions.csv'\n",
    "df.to_csv(filename)"
   ]
  }
 ],
 "metadata": {
  "kernelspec": {
   "display_name": "Python 3 (ipykernel)",
   "language": "python",
   "name": "python3"
  },
  "language_info": {
   "codemirror_mode": {
    "name": "ipython",
    "version": 3
   },
   "file_extension": ".py",
   "mimetype": "text/x-python",
   "name": "python",
   "nbconvert_exporter": "python",
   "pygments_lexer": "ipython3",
   "version": "3.9.7"
  },
  "toc-autonumbering": true
 },
 "nbformat": 4,
 "nbformat_minor": 5
}
